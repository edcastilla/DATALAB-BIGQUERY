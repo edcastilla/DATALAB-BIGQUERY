{
 "cells": [
  {
   "cell_type": "code",
   "execution_count": 1,
   "metadata": {},
   "outputs": [
    {
     "data": {
      "text/plain": [
       "9"
      ]
     },
     "execution_count": 1,
     "metadata": {},
     "output_type": "execute_result"
    }
   ],
   "source": [
    "3+6"
   ]
  },
  {
   "cell_type": "code",
   "execution_count": 9,
   "metadata": {},
   "outputs": [
    {
     "data": {
      "text/html": [
       "\n",
       "    <div class=\"bqtv\" id=\"2_156181561510\"><table><tr><th>year</th><th>birth_count</th></tr><tr><td>2008</td><td>4255156</td></tr><tr><td>2007</td><td>4324008</td></tr><tr><td>2006</td><td>4273225</td></tr><tr><td>2005</td><td>4145619</td></tr><tr><td>2004</td><td>4118907</td></tr><tr><td>2003</td><td>4096092</td></tr><tr><td>2002</td><td>4027376</td></tr><tr><td>2001</td><td>4031531</td></tr><tr><td>2000</td><td>4063823</td></tr><tr><td>1999</td><td>3963465</td></tr><tr><td>1998</td><td>3945192</td></tr><tr><td>1997</td><td>3884329</td></tr><tr><td>1996</td><td>3894874</td></tr><tr><td>1995</td><td>3903012</td></tr><tr><td>1994</td><td>3956925</td></tr></table></div>\n",
       "    <br />(rows: 15, time: 0.6s, cached, job: job_1bkoHWOLFAqfsyKPBCODUkj9bH48)<br />\n",
       "    <script src=\"/static/components/requirejs/require.js\"></script>\n",
       "    <script>\n",
       "      require.config({\n",
       "        paths: {\n",
       "          base: '/static/base',\n",
       "          d3: '//cdnjs.cloudflare.com/ajax/libs/d3/3.4.13/d3',\n",
       "          plotly: 'https://cdn.plot.ly/plotly-1.5.1.min.js?noext',\n",
       "          jquery: '//ajax.googleapis.com/ajax/libs/jquery/2.0.0/jquery.min'\n",
       "        },\n",
       "        map: {\n",
       "          '*': {\n",
       "            datalab: 'nbextensions/gcpdatalab'\n",
       "          }\n",
       "        },\n",
       "        shim: {\n",
       "          plotly: {\n",
       "            deps: ['d3', 'jquery'],\n",
       "            exports: 'plotly'\n",
       "          }\n",
       "        }\n",
       "      });\n",
       "\n",
       "      require(['datalab/charting', 'datalab/element!2_156181561510', 'base/js/events',\n",
       "          'datalab/style!/nbextensions/gcpdatalab/charting.css'],\n",
       "        function(charts, dom, events) {\n",
       "          charts.render('gcharts', dom, events, 'table', [], {\"rows\": [{\"c\": [{\"v\": \"2008\"}, {\"v\": 4255156}]}, {\"c\": [{\"v\": \"2007\"}, {\"v\": 4324008}]}, {\"c\": [{\"v\": \"2006\"}, {\"v\": 4273225}]}, {\"c\": [{\"v\": \"2005\"}, {\"v\": 4145619}]}, {\"c\": [{\"v\": \"2004\"}, {\"v\": 4118907}]}, {\"c\": [{\"v\": \"2003\"}, {\"v\": 4096092}]}, {\"c\": [{\"v\": \"2002\"}, {\"v\": 4027376}]}, {\"c\": [{\"v\": \"2001\"}, {\"v\": 4031531}]}, {\"c\": [{\"v\": \"2000\"}, {\"v\": 4063823}]}, {\"c\": [{\"v\": \"1999\"}, {\"v\": 3963465}]}, {\"c\": [{\"v\": \"1998\"}, {\"v\": 3945192}]}, {\"c\": [{\"v\": \"1997\"}, {\"v\": 3884329}]}, {\"c\": [{\"v\": \"1996\"}, {\"v\": 3894874}]}, {\"c\": [{\"v\": \"1995\"}, {\"v\": 3903012}]}, {\"c\": [{\"v\": \"1994\"}, {\"v\": 3956925}]}], \"cols\": [{\"type\": \"string\", \"id\": \"year\", \"label\": \"year\"}, {\"type\": \"number\", \"id\": \"birth_count\", \"label\": \"birth_count\"}]},\n",
       "            {\n",
       "              pageSize: 25,\n",
       "              cssClassNames:  {\n",
       "                tableRow: 'gchart-table-row',\n",
       "                headerRow: 'gchart-table-headerrow',\n",
       "                oddTableRow: 'gchart-table-oddrow',\n",
       "                selectedTableRow: 'gchart-table-selectedrow',\n",
       "                hoverTableRow: 'gchart-table-hoverrow',\n",
       "                tableCell: 'gchart-table-cell',\n",
       "                headerCell: 'gchart-table-headercell',\n",
       "                rowNumberCell: 'gchart-table-rownumcell'\n",
       "              }\n",
       "            },\n",
       "            {source_index: 0, fields: 'year,birth_count'},\n",
       "            0,\n",
       "            15);\n",
       "        }\n",
       "      );\n",
       "    </script>\n",
       "  "
      ],
      "text/plain": [
       "QueryResultsTable job_1bkoHWOLFAqfsyKPBCODUkj9bH48"
      ]
     },
     "execution_count": 9,
     "metadata": {},
     "output_type": "execute_result"
    }
   ],
   "source": [
    "%%bq query \n",
    "# sql query to return total birhts by year\n",
    "select CAST(source_year AS string)AS year,COUNT(is_male)As birth_count\n",
    "from `publicdata.samples.natality`\n",
    "GROUP BY year\n",
    "ORDER BY year DESC\n",
    "LIMIT 15"
   ]
  },
  {
   "cell_type": "code",
   "execution_count": 5,
   "metadata": {},
   "outputs": [],
   "source": [
    "%%bq query --name total_births\n",
    "# sql query to return total birhts by year\n",
    "select CAST(source_year AS string)AS year,COUNT(is_male)As birth_count\n",
    "from `publicdata.samples.natality`\n",
    "GROUP BY year\n",
    "ORDER BY year DESC\n",
    "LIMIT 15"
   ]
  },
  {
   "cell_type": "code",
   "execution_count": 8,
   "metadata": {},
   "outputs": [
    {
     "data": {
      "text/html": [
       "\n",
       "    <div class=\"bqgc-container\">\n",
       "      \n",
       "      <div class=\"bqgc \" id=\"1_156181553361\">\n",
       "      </div>\n",
       "    </div>\n",
       "    <script src=\"/static/components/requirejs/require.js\"></script>\n",
       "    <script>\n",
       "\n",
       "      require.config({\n",
       "        paths: {\n",
       "          base: '/static/base',\n",
       "          d3: '//cdnjs.cloudflare.com/ajax/libs/d3/3.4.13/d3',\n",
       "          plotly: 'https://cdn.plot.ly/plotly-1.5.1.min.js?noext',\n",
       "          jquery: '//ajax.googleapis.com/ajax/libs/jquery/2.0.0/jquery.min'\n",
       "        },\n",
       "        map: {\n",
       "          '*': {\n",
       "            datalab: 'nbextensions/gcpdatalab'\n",
       "          }\n",
       "        },\n",
       "        shim: {\n",
       "          plotly: {\n",
       "            deps: ['d3', 'jquery'],\n",
       "            exports: 'plotly'\n",
       "          }\n",
       "        }\n",
       "      });\n",
       "\n",
       "      require(['datalab/charting',\n",
       "               'datalab/element!1_156181553361',\n",
       "               'base/js/events',\n",
       "               'datalab/style!/nbextensions/gcpdatalab/charting.css'\n",
       "              ],\n",
       "        function(charts, dom, events) {\n",
       "          charts.render(\n",
       "              'gcharts',\n",
       "              dom,\n",
       "              events,\n",
       "              'columns',\n",
       "              [],\n",
       "              {\"rows\": [{\"c\": [{\"v\": \"2008\"}, {\"v\": 4255156}]}, {\"c\": [{\"v\": \"2007\"}, {\"v\": 4324008}]}, {\"c\": [{\"v\": \"2006\"}, {\"v\": 4273225}]}, {\"c\": [{\"v\": \"2005\"}, {\"v\": 4145619}]}, {\"c\": [{\"v\": \"2004\"}, {\"v\": 4118907}]}, {\"c\": [{\"v\": \"2003\"}, {\"v\": 4096092}]}, {\"c\": [{\"v\": \"2002\"}, {\"v\": 4027376}]}, {\"c\": [{\"v\": \"2001\"}, {\"v\": 4031531}]}, {\"c\": [{\"v\": \"2000\"}, {\"v\": 4063823}]}, {\"c\": [{\"v\": \"1999\"}, {\"v\": 3963465}]}, {\"c\": [{\"v\": \"1998\"}, {\"v\": 3945192}]}, {\"c\": [{\"v\": \"1997\"}, {\"v\": 3884329}]}, {\"c\": [{\"v\": \"1996\"}, {\"v\": 3894874}]}, {\"c\": [{\"v\": \"1995\"}, {\"v\": 3903012}]}, {\"c\": [{\"v\": \"1994\"}, {\"v\": 3956925}]}], \"cols\": [{\"type\": \"string\", \"id\": \"year\", \"label\": \"year\"}, {\"type\": \"number\", \"id\": \"birth_count\", \"label\": \"birth_count\"}]},\n",
       "              {},\n",
       "              {\"fields\": \"year,birth_count\", \"source_index\": 0, \"name\": 0},\n",
       "              0,\n",
       "              15);\n",
       "          }\n",
       "        );\n",
       "    </script>\n",
       "  "
      ],
      "text/plain": [
       "<IPython.core.display.HTML object>"
      ]
     },
     "execution_count": 8,
     "metadata": {},
     "output_type": "execute_result"
    },
    {
     "data": {
      "image/png": "[encoded data removed]"
     },
     "metadata": {
      "source_id": "1_156181553361"
     },
     "output_type": "display_data"
    }
   ],
   "source": [
    "% chart columns --data total_births --fields year,birth_count"
   ]
  },
  {
   "cell_type": "code",
   "execution_count": 12,
   "metadata": {},
   "outputs": [],
   "source": [
    "\n",
    "query = \"\"\"\n",
    "select CAST(source_year AS string)AS year,COUNT(is_male)As birth_count\n",
    "from `publicdata.samples.natality`\n",
    "GROUP BY year\n",
    "ORDER BY year DESC\n",
    "\n",
    "\"\"\""
   ]
  },
  {
   "cell_type": "code",
   "execution_count": 13,
   "metadata": {},
   "outputs": [
    {
     "data": {
      "text/html": [
       "<div>\n",
       "<style scoped>\n",
       "    .dataframe tbody tr th:only-of-type {\n",
       "        vertical-align: middle;\n",
       "    }\n",
       "\n",
       "    .dataframe tbody tr th {\n",
       "        vertical-align: top;\n",
       "    }\n",
       "\n",
       "    .dataframe thead th {\n",
       "        text-align: right;\n",
       "    }\n",
       "</style>\n",
       "<table border=\"1\" class=\"dataframe\">\n",
       "  <thead>\n",
       "    <tr style=\"text-align: right;\">\n",
       "      <th></th>\n",
       "      <th>year</th>\n",
       "      <th>birth_count</th>\n",
       "    </tr>\n",
       "  </thead>\n",
       "  <tbody>\n",
       "    <tr>\n",
       "      <th>0</th>\n",
       "      <td>2008</td>\n",
       "      <td>4255156</td>\n",
       "    </tr>\n",
       "    <tr>\n",
       "      <th>1</th>\n",
       "      <td>2007</td>\n",
       "      <td>4324008</td>\n",
       "    </tr>\n",
       "    <tr>\n",
       "      <th>2</th>\n",
       "      <td>2006</td>\n",
       "      <td>4273225</td>\n",
       "    </tr>\n",
       "    <tr>\n",
       "      <th>3</th>\n",
       "      <td>2005</td>\n",
       "      <td>4145619</td>\n",
       "    </tr>\n",
       "    <tr>\n",
       "      <th>4</th>\n",
       "      <td>2004</td>\n",
       "      <td>4118907</td>\n",
       "    </tr>\n",
       "  </tbody>\n",
       "</table>\n",
       "</div>"
      ],
      "text/plain": [
       "   year  birth_count\n",
       "0  2008      4255156\n",
       "1  2007      4324008\n",
       "2  2006      4273225\n",
       "3  2005      4145619\n",
       "4  2004      4118907"
      ]
     },
     "execution_count": 13,
     "metadata": {},
     "output_type": "execute_result"
    }
   ],
   "source": [
    "# call bigquery and examine in dataframe\n",
    "import google.datalab.bigquery as bq\n",
    "df=bq.Query(query+\"LIMIT 15\").execute().result().to_dataframe()\n",
    "df.head()"
   ]
  },
  {
   "cell_type": "code",
   "execution_count": 15,
   "metadata": {},
   "outputs": [
    {
     "name": "stderr",
     "output_type": "stream",
     "text": [
      "/usr/local/envs/py2env/lib/python2.7/site-packages/matplotlib/font_manager.py:1320: UserWarning: findfont: Font family [u'sans-serif'] not found. Falling back to DejaVu Sans\n",
      "  (prop.get_family(), self.defaultFamily[fontext]))\n"
     ]
    },
    {
     "data": {
      "image/png": "[encoded data removed]",
      "text/plain": [
       "<matplotlib.figure.Figure at 0x7f6971987590>"
      ]
     },
     "metadata": {},
     "output_type": "display_data"
    }
   ],
   "source": [
    "# BAR PLOT \n",
    "\n",
    "df.plot(x='year',y='birth_count',kind='bar');"
   ]
  },
  {
   "cell_type": "code",
   "execution_count": 18,
   "metadata": {},
   "outputs": [
    {
     "name": "stdout",
     "output_type": "stream",
     "text": [
      "    year  birth_count\n",
      "0   2008      4255156\n",
      "1   2007      4324008\n",
      "2   2006      4273225\n",
      "3   2005      4145619\n",
      "4   2004      4118907\n",
      "5   2003      4096092\n",
      "6   2002      4027376\n",
      "7   2001      4031531\n",
      "8   2000      4063823\n",
      "9   1999      3963465\n",
      "10  1998      3945192\n",
      "11  1997      3884329\n",
      "12  1996      3894874\n",
      "13  1995      3903012\n",
      "14  1994      3956925\n"
     ]
    }
   ],
   "source": [
    "print(df)"
   ]
  },
  {
   "cell_type": "code",
   "execution_count": 26,
   "metadata": {},
   "outputs": [
    {
     "name": "stdout",
     "output_type": "stream",
     "text": [
      "0     2008\n",
      "1     2007\n",
      "2     2006\n",
      "3     2005\n",
      "4     2004\n",
      "5     2003\n",
      "6     2002\n",
      "7     2001\n",
      "8     2000\n",
      "9     1999\n",
      "10    1998\n",
      "11    1997\n",
      "12    1996\n",
      "13    1995\n",
      "14    1994\n",
      "Name: year, dtype: object\n"
     ]
    }
   ],
   "source": [
    "\n",
    "print(df['year'])"
   ]
  },
  {
   "cell_type": "code",
   "execution_count": 28,
   "metadata": {},
   "outputs": [
    {
     "name": "stdout",
     "output_type": "stream",
     "text": [
      "year              2008\n",
      "birth_count    4255156\n",
      "Name: 0, dtype: object\n"
     ]
    }
   ],
   "source": [
    " print(df.loc[0])"
   ]
  },
  {
   "cell_type": "code",
   "execution_count": 30,
   "metadata": {},
   "outputs": [
    {
     "name": "stdout",
     "output_type": "stream",
     "text": [
      "      birth_count\n",
      "year             \n",
      "1994      3956925\n",
      "1995      3903012\n",
      "1996      3894874\n",
      "1997      3884329\n",
      "1998      3945192\n",
      "1999      3963465\n",
      "2000      4063823\n",
      "2001      4031531\n",
      "2002      4027376\n",
      "2003      4096092\n",
      "2004      4118907\n",
      "2005      4145619\n",
      "2006      4273225\n",
      "2007      4324008\n",
      "2008      4255156\n"
     ]
    }
   ],
   "source": [
    "print(df.groupby('year').sum())"
   ]
  },
  {
   "cell_type": "code",
   "execution_count": 20,
   "metadata": {},
   "outputs": [
    {
     "name": "stdout",
     "output_type": "stream",
     "text": [
      "        birth_count\n",
      "count  1.500000e+01\n",
      "mean   4.058902e+06\n",
      "std    1.422076e+05\n",
      "min    3.884329e+06\n",
      "25%    3.951058e+06\n",
      "50%    4.031531e+06\n",
      "75%    4.132263e+06\n",
      "max    4.324008e+06\n"
     ]
    }
   ],
   "source": [
    "print(df.describe())"
   ]
  },
  {
   "cell_type": "code",
   "execution_count": null,
   "metadata": {},
   "outputs": [],
   "source": []
  },
  {
   "cell_type": "code",
   "execution_count": null,
   "metadata": {},
   "outputs": [],
   "source": []
  },
  {
   "cell_type": "code",
   "execution_count": null,
   "metadata": {},
   "outputs": [],
   "source": []
  }
 ],
 "metadata": {
  "kernelspec": {
   "display_name": "Python 2",
   "language": "python",
   "name": "python2"
  },
  "language_info": {
   "codemirror_mode": {
    "name": "ipython",
    "version": 2
   },
   "file_extension": ".py",
   "mimetype": "text/x-python",
   "name": "python",
   "nbconvert_exporter": "python",
   "pygments_lexer": "ipython2",
   "version": "2.7.15"
  }
 },
 "nbformat": 4,
 "nbformat_minor": 2
}
